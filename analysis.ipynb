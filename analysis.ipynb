{
 "cells": [
  {
   "cell_type": "code",
   "execution_count": 621,
   "metadata": {},
   "outputs": [],
   "source": [
    "import pandas as pd\n",
    "import csv\n",
    "import clvehicles\n",
    "import os\n",
    "import os.path\n",
    "from itertools import combinations\n",
    "from datetime import datetime\n",
    "import math\n",
    "import numpy as np\n",
    "import time\n",
    "\n",
    "from sklearn.linear_model import LinearRegression\n",
    "from sklearn.preprocessing import StandardScaler\n",
    "from sklearn import preprocessing\n"
   ]
  },
  {
   "cell_type": "markdown",
   "metadata": {},
   "source": [
    "Enter in the make and model below. I created a list of some of the major cities in the US. The loop will create a unique csv for each set of city, make, and model."
   ]
  },
  {
   "cell_type": "code",
   "execution_count": 351,
   "metadata": {},
   "outputs": [
    {
     "name": "stdout",
     "output_type": "stream",
     "text": [
      "before os system command\n",
      "after os system command\n",
      "middle of while loop\n",
      "before os system command\n",
      "after os system command\n",
      "middle of while loop\n"
     ]
    }
   ],
   "source": [
    "#TODO make CLI capable of accepting cities with 2 words (i.e. New York, los, angeles)\\\n",
    "#TODO automate how to delete old csv files\n",
    "cities = ['Phoenix', 'madison']\n",
    "make = 'Acura'\n",
    "model = 'MDX'\n",
    "\n",
    "for i in cities:\n",
    "    command = 'python clvehicles.py ' + i.lower() + ' ' + make.lower() + ' ' + model.lower()\n",
    "    print('before os system command')\n",
    "    os.system(command)\n",
    "    print('after os system command')\n",
    "\n",
    "    filename = i.lower() + model.lower() + '.csv'\n",
    "    #Delete while loop? Likely redundant, the os.system(command) line doesn't continue until csv is generated\n",
    "    while (not os.path.isfile('./' + filename)):\n",
    "        print('not in folder yet')\n",
    "        time.sleep(2)\n",
    "    print('middle of while loop')\n"
   ]
  },
  {
   "cell_type": "code",
   "execution_count": 530,
   "metadata": {},
   "outputs": [],
   "source": [
    "del df\n",
    "del temp_df\n",
    "del frames\n",
    "frames = []\n",
    "df = pd.DataFrame()\n",
    "\n",
    "for i in cities:\n",
    "    filename = i.lower() + model.lower() + '.csv'\n",
    "    temp_df = pd.read_csv(filename)\n",
    "    #df.append(temp_df, ignore_index = True)\n",
    "    #display(temp_df)\n",
    "    frames.append(temp_df)\n",
    "    \n",
    "df = pd.concat(frames, axis=0, ignore_index = True);"
   ]
  },
  {
   "cell_type": "markdown",
   "metadata": {},
   "source": [
    "This command stops the df from truncating the url. It makes debugging by viewing the original posting much easier."
   ]
  },
  {
   "cell_type": "code",
   "execution_count": 531,
   "metadata": {},
   "outputs": [],
   "source": [
    "pd.set_option('display.max_colwidth', -1)"
   ]
  },
  {
   "cell_type": "markdown",
   "metadata": {},
   "source": [
    "# Clean the Data\n",
    "The next step is to determine how to eliminate duplicate rows. "
   ]
  },
  {
   "cell_type": "code",
   "execution_count": 532,
   "metadata": {},
   "outputs": [
    {
     "data": {
      "text/plain": [
       "'0 duplicates were dropped'"
      ]
     },
     "metadata": {},
     "output_type": "display_data"
    }
   ],
   "source": [
    "before_drop = len(df)\n",
    "df.drop_duplicates()\n",
    "after_drop = len(df)\n",
    "display(str(before_drop - after_drop) +  ' duplicates were dropped')"
   ]
  },
  {
   "cell_type": "markdown",
   "metadata": {},
   "source": [
    "Because the URL is different on identical listings, it is not a good metric to determine duplicates. Furthermore, because we have aggregated all of the data by model and make, it is unreasonable to eliminate rows that have similar entries.\n",
    "For example: https://phoenix.craigslist.org/wvl/cto/d/2007-acura-mdx-awd/6538180578.html and https://phoenix.craigslist.org/wvl/ctd/d/2007-acura-mdx/6537533572.html have the same model, make, year, price, location, and title status but are different listings. The only two feasible ways to eliminate duplicate rows is by comparing the images on two different pages, or comparing the times they were posted. Most duplicates are posted within a couple minutes of each other and have similar titles, so that will be the criteria for determining rows that should be deleted.\n",
    "#### Update\n",
    "Comparing times turned out to be error proned as expected. Did not catch all duplicates and actually removed unique listings. Onto picture parsing, I suppose"
   ]
  },
  {
   "cell_type": "code",
   "execution_count": 533,
   "metadata": {},
   "outputs": [],
   "source": [
    "#TODO\n",
    "#Fix these functions. Not all duplicates were posted at the same time. Sometimes listings have the same name\n",
    "#and are different cars. Other times they have different names and are the same car. Currently working on this.\n",
    "'''\n",
    "def rowsAreSimilar(input_df, row1, row2):\n",
    "    if input_df.name.iloc[row1] == input_df.name.iloc[row2]:\n",
    "        return True\n",
    "    if input_df.year.iloc[row1] == input_df.year.iloc[row2]:\n",
    "        return True\n",
    "    #Need more parameters\n",
    "    return False\n",
    "\n",
    "\n",
    "def eliminateRowsByTime(input_df, city):\n",
    "    length = len(input_df)\n",
    "    lst = np.arange(0,length,1)\n",
    "    elims = []\n",
    "    for combo in combinations(lst, 2):  #selects each combination (saves runtime rather than testing rows 0 vs 1 AND 1 vs 0.)\n",
    "        #print(combo[1])\n",
    "        time1  = (df[df['location'] == city].timestamp[combo[0]])\n",
    "        time2  = (df[df['location'] == city].timestamp[combo[1]])\n",
    "        dtime1 = datetime.strptime(time1, '%Y-%m-%d %H:%M')\n",
    "        dtime2 = datetime.strptime(time2, '%Y-%m-%d %H:%M')\n",
    "        diff = (dtime1 - dtime2)\n",
    "        \n",
    "        #This block is executed if there are two rows with almost identical timestamps. \n",
    "        #Now we compare the column values to see if they are the same car\n",
    "        if (diff.total_seconds()/60) < 1.5: #if the difference of timestamps of the postings is <1.5 minutes\n",
    "            if rowsAreSimilar(input_df, combo[0], combo[1]): #if the rows are similar\n",
    "                elims.append(combo[1]) #has to be a duplicate posting\n",
    "    print('elims are', elims)\n",
    "\n",
    "c = df[df['location'] == 'chicago']\n",
    "eliminateRowsByTime(c, 'chicago')\n",
    "''';"
   ]
  },
  {
   "cell_type": "code",
   "execution_count": 534,
   "metadata": {},
   "outputs": [],
   "source": [
    "#df[(df['location'] == 'madison') & (df['year'] < 2014)]"
   ]
  },
  {
   "cell_type": "code",
   "execution_count": 535,
   "metadata": {},
   "outputs": [
    {
     "data": {
      "text/plain": [
       "numpy.int64"
      ]
     },
     "execution_count": 535,
     "metadata": {},
     "output_type": "execute_result"
    }
   ],
   "source": [
    "type(df['year'].iloc[50])"
   ]
  },
  {
   "cell_type": "markdown",
   "metadata": {},
   "source": [
    "Type cast all the values in the price column from 'str' to 'int'"
   ]
  },
  {
   "cell_type": "code",
   "execution_count": 536,
   "metadata": {},
   "outputs": [],
   "source": [
    "#df['price'].replace('[\\$, ]', '', regex=True).astype(float)\n",
    "#df['price'] = df['price'].replace('$', '', regex=True)\n",
    "df.price = df.price.replace('\\$', '', regex=True).astype(float)"
   ]
  },
  {
   "cell_type": "markdown",
   "metadata": {},
   "source": [
    "### Fix Odometer\n",
    "Lazy people will put '90' miles when they actually mean '90000.' Cars displaying 0 miles will be overwritten as 'Nan'"
   ]
  },
  {
   "cell_type": "code",
   "execution_count": 537,
   "metadata": {
    "scrolled": true
   },
   "outputs": [
    {
     "name": "stdout",
     "output_type": "stream",
     "text": [
      "('i is ', 3L, ' with the milage of ', 79.0)\n",
      "('i is ', 31L, ' with the milage of ', 157.0)\n",
      "('i is ', 94L, ' with the milage of ', nan)\n",
      "('i is ', 95L, ' with the milage of ', nan)\n"
     ]
    }
   ],
   "source": [
    "for i in df[(df['milage'] < 500)].milage.index:\n",
    "    if df['milage'].iloc[i] == 0:\n",
    "        df.milage.iloc[i] = float('NaN')\n",
    "    print(\"i is \", i, ' with the milage of ',df['milage'].iloc[i])\n",
    "    df.milage.iloc[i] *= 1000    "
   ]
  },
  {
   "cell_type": "code",
   "execution_count": 538,
   "metadata": {},
   "outputs": [
    {
     "data": {
      "text/plain": [
       "name            0 \n",
       "price           0 \n",
       "year            0 \n",
       "condition       41\n",
       "milage          17\n",
       "title status    0 \n",
       "transmission    0 \n",
       "drive           37\n",
       "cylinders       33\n",
       "fuel            0 \n",
       "color           36\n",
       "location        0 \n",
       "timestamp       0 \n",
       "url             0 \n",
       "dtype: int64"
      ]
     },
     "execution_count": 538,
     "metadata": {},
     "output_type": "execute_result"
    }
   ],
   "source": [
    "df.isnull().sum()"
   ]
  },
  {
   "cell_type": "markdown",
   "metadata": {},
   "source": [
    "## Prepare the Model\n",
    "Drop the columns that are unnecessary to the model\n",
    "All columns are: u'name', u'price', u'year', u'condition', u'milage', u'title status', u'transmission', u'drive', u'cylinders', u'fuel', u'color', u'location', u'timestamp', u'url"
   ]
  },
  {
   "cell_type": "code",
   "execution_count": 539,
   "metadata": {},
   "outputs": [],
   "source": [
    "df = df.drop(['url', 'fuel', 'timestamp'], axis=1)"
   ]
  },
  {
   "cell_type": "markdown",
   "metadata": {},
   "source": [
    "Cast the object types into floats so the model can accept them"
   ]
  },
  {
   "cell_type": "code",
   "execution_count": 540,
   "metadata": {},
   "outputs": [
    {
     "data": {
      "text/plain": [
       "array([' excellent', ' like new', nan, ' good', ' fair', ' new'],\n",
       "      dtype=object)"
      ]
     },
     "execution_count": 540,
     "metadata": {},
     "output_type": "execute_result"
    }
   ],
   "source": [
    "df['condition'].unique()"
   ]
  },
  {
   "cell_type": "markdown",
   "metadata": {},
   "source": [
    "Apply arbitrary variables to certain columns containing object types. We will use one-hot encoding for columns with values that have no correlation between the values, such as color."
   ]
  },
  {
   "cell_type": "code",
   "execution_count": 541,
   "metadata": {},
   "outputs": [],
   "source": [
    "condition_mapping = {' excellent': 5, ' new': 4, ' like new': 3, ' good': 2, ' fair': 1, np.nan : 0}\n",
    "title_status_mapping = {' clean' : 1, ' rebuilt' : 0, np.nan : 0}\n",
    "transmission_mapping = {' automatic' : 1, ' manual' : 0}\n",
    "drive_mapping = {' 4wd' : 1, ' fwd' : 1, ' rwd' : 0, np.nan : .5}"
   ]
  },
  {
   "cell_type": "code",
   "execution_count": 542,
   "metadata": {},
   "outputs": [],
   "source": [
    "df['condition'] = df['condition'].replace(condition_mapping)\n",
    "df['title status'] = df['title status'].replace(title_status_mapping)\n",
    "df['transmission'] = df['transmission'].replace(transmission_mapping)\n",
    "df['drive'] = df['drive'].replace(drive_mapping)\n"
   ]
  },
  {
   "cell_type": "code",
   "execution_count": 543,
   "metadata": {},
   "outputs": [
    {
     "data": {
      "text/plain": [
       "array([' 6 cylinders', nan, ' 4 cylinders', ' other'], dtype=object)"
      ]
     },
     "execution_count": 543,
     "metadata": {},
     "output_type": "execute_result"
    }
   ],
   "source": [
    "df['cylinders'].unique()"
   ]
  },
  {
   "cell_type": "code",
   "execution_count": 544,
   "metadata": {},
   "outputs": [
    {
     "data": {
      "text/html": [
       "<div>\n",
       "<style scoped>\n",
       "    .dataframe tbody tr th:only-of-type {\n",
       "        vertical-align: middle;\n",
       "    }\n",
       "\n",
       "    .dataframe tbody tr th {\n",
       "        vertical-align: top;\n",
       "    }\n",
       "\n",
       "    .dataframe thead th {\n",
       "        text-align: right;\n",
       "    }\n",
       "</style>\n",
       "<table border=\"1\" class=\"dataframe\">\n",
       "  <thead>\n",
       "    <tr style=\"text-align: right;\">\n",
       "      <th></th>\n",
       "      <th>name</th>\n",
       "      <th>price</th>\n",
       "      <th>year</th>\n",
       "      <th>condition</th>\n",
       "      <th>milage</th>\n",
       "      <th>title status</th>\n",
       "      <th>transmission</th>\n",
       "      <th>drive</th>\n",
       "      <th>location</th>\n",
       "    </tr>\n",
       "  </thead>\n",
       "  <tbody>\n",
       "    <tr>\n",
       "      <th>0</th>\n",
       "      <td>2011 Acura MDX 62k miles</td>\n",
       "      <td>19700.0</td>\n",
       "      <td>2011</td>\n",
       "      <td>5</td>\n",
       "      <td>62000.0</td>\n",
       "      <td>1</td>\n",
       "      <td>1</td>\n",
       "      <td>1.0</td>\n",
       "      <td>phoenix</td>\n",
       "    </tr>\n",
       "    <tr>\n",
       "      <th>1</th>\n",
       "      <td>ACURA MDX 4X4</td>\n",
       "      <td>5600.0</td>\n",
       "      <td>2006</td>\n",
       "      <td>5</td>\n",
       "      <td>117000.0</td>\n",
       "      <td>0</td>\n",
       "      <td>1</td>\n",
       "      <td>1.0</td>\n",
       "      <td>phoenix</td>\n",
       "    </tr>\n",
       "    <tr>\n",
       "      <th>2</th>\n",
       "      <td>2008 Acura MDX W/Technology Package &amp; Sunroof GORGEOUS!!!!</td>\n",
       "      <td>11500.0</td>\n",
       "      <td>2008</td>\n",
       "      <td>5</td>\n",
       "      <td>147000.0</td>\n",
       "      <td>1</td>\n",
       "      <td>1</td>\n",
       "      <td>1.0</td>\n",
       "      <td>phoenix</td>\n",
       "    </tr>\n",
       "    <tr>\n",
       "      <th>3</th>\n",
       "      <td>2010 Acura MDX Tech Package - 79K miles - Like new</td>\n",
       "      <td>18950.0</td>\n",
       "      <td>2010</td>\n",
       "      <td>3</td>\n",
       "      <td>79000.0</td>\n",
       "      <td>1</td>\n",
       "      <td>1</td>\n",
       "      <td>1.0</td>\n",
       "      <td>phoenix</td>\n",
       "    </tr>\n",
       "    <tr>\n",
       "      <th>4</th>\n",
       "      <td>2009 ACURA MDX</td>\n",
       "      <td>8800.0</td>\n",
       "      <td>2009</td>\n",
       "      <td>5</td>\n",
       "      <td>225000.0</td>\n",
       "      <td>1</td>\n",
       "      <td>1</td>\n",
       "      <td>1.0</td>\n",
       "      <td>phoenix</td>\n",
       "    </tr>\n",
       "  </tbody>\n",
       "</table>\n",
       "</div>"
      ],
      "text/plain": [
       "                                                         name    price  year  \\\n",
       "0  2011 Acura MDX 62k miles                                    19700.0  2011   \n",
       "1  ACURA MDX 4X4                                               5600.0   2006   \n",
       "2  2008 Acura MDX W/Technology Package & Sunroof GORGEOUS!!!!  11500.0  2008   \n",
       "3  2010 Acura MDX Tech Package - 79K miles - Like new          18950.0  2010   \n",
       "4  2009 ACURA MDX                                              8800.0   2009   \n",
       "\n",
       "   condition    milage  title status  transmission  drive location  \n",
       "0  5          62000.0   1             1             1.0    phoenix  \n",
       "1  5          117000.0  0             1             1.0    phoenix  \n",
       "2  5          147000.0  1             1             1.0    phoenix  \n",
       "3  3          79000.0   1             1             1.0    phoenix  \n",
       "4  5          225000.0  1             1             1.0    phoenix  "
      ]
     },
     "execution_count": 544,
     "metadata": {},
     "output_type": "execute_result"
    }
   ],
   "source": [
    "#TODO eventually fix this and use one-hot encoding, but just leave it out of the pricing model for now\n",
    "df = df.drop(['color'], axis = 1)\n",
    "df = df.drop(['cylinders'], axis = 1)\n",
    "df.head()"
   ]
  },
  {
   "cell_type": "markdown",
   "metadata": {},
   "source": [
    "## Train the Model\n",
    "we will use linear regression to train a pricing model based off of the information left in our dataframe"
   ]
  },
  {
   "cell_type": "markdown",
   "metadata": {},
   "source": [
    "I'll fix this later, but for now, let's just drop any rows with null data\n",
    "TODO: Parameterize the cities"
   ]
  },
  {
   "cell_type": "code",
   "execution_count": 547,
   "metadata": {},
   "outputs": [],
   "source": [
    "df = df.dropna(axis = 0)"
   ]
  },
  {
   "cell_type": "code",
   "execution_count": 554,
   "metadata": {},
   "outputs": [
    {
     "data": {
      "text/plain": [
       "87    5800.0 \n",
       "88    14500.0\n",
       "89    17995.0\n",
       "90    38500.0\n",
       "91    17999.0\n",
       "92    30995.0\n",
       "96    6995.0 \n",
       "Name: price, dtype: float64"
      ]
     },
     "execution_count": 554,
     "metadata": {},
     "output_type": "execute_result"
    }
   ],
   "source": [
    "df[df['location'] == 'madison']['price']"
   ]
  },
  {
   "cell_type": "code",
   "execution_count": 555,
   "metadata": {},
   "outputs": [],
   "source": [
    "Y_madison = df[df['location'] == 'madison']['price']\n",
    "Y_phoenix = df[df['location'] == 'phoenix']['price']\n",
    "X = df.drop('price', axis = 1)\n",
    "X = df.drop('name', axis = 1)"
   ]
  },
  {
   "cell_type": "markdown",
   "metadata": {},
   "source": [
    "TODO: Parameterize the cities"
   ]
  },
  {
   "cell_type": "code",
   "execution_count": 609,
   "metadata": {},
   "outputs": [],
   "source": [
    "lm = LinearRegression()\n",
    "X_madison = X[X['location'] == 'madison']\n",
    "X_phoenix = X[X['location'] == 'phoenix']\n",
    "X_madison = X_madison.drop('location', axis = 1)\n",
    "X_madison = X_madison.drop('price', axis = 1)\n",
    "X_phoenix = X_phoenix.drop('location', axis = 1)\n",
    "X_phoenix = X_phoenix.drop('price', axis = 1)"
   ]
  },
  {
   "cell_type": "code",
   "execution_count": 648,
   "metadata": {},
   "outputs": [
    {
     "data": {
      "text/html": [
       "<div>\n",
       "<style scoped>\n",
       "    .dataframe tbody tr th:only-of-type {\n",
       "        vertical-align: middle;\n",
       "    }\n",
       "\n",
       "    .dataframe tbody tr th {\n",
       "        vertical-align: top;\n",
       "    }\n",
       "\n",
       "    .dataframe thead th {\n",
       "        text-align: right;\n",
       "    }\n",
       "</style>\n",
       "<table border=\"1\" class=\"dataframe\">\n",
       "  <thead>\n",
       "    <tr style=\"text-align: right;\">\n",
       "      <th></th>\n",
       "      <th>year</th>\n",
       "      <th>condition</th>\n",
       "      <th>milage</th>\n",
       "      <th>title status</th>\n",
       "      <th>transmission</th>\n",
       "      <th>drive</th>\n",
       "    </tr>\n",
       "  </thead>\n",
       "  <tbody>\n",
       "    <tr>\n",
       "      <th>87</th>\n",
       "      <td>2005</td>\n",
       "      <td>2</td>\n",
       "      <td>232000.0</td>\n",
       "      <td>1</td>\n",
       "      <td>1</td>\n",
       "      <td>1.0</td>\n",
       "    </tr>\n",
       "    <tr>\n",
       "      <th>88</th>\n",
       "      <td>2009</td>\n",
       "      <td>5</td>\n",
       "      <td>91000.0</td>\n",
       "      <td>1</td>\n",
       "      <td>1</td>\n",
       "      <td>1.0</td>\n",
       "    </tr>\n",
       "    <tr>\n",
       "      <th>89</th>\n",
       "      <td>2012</td>\n",
       "      <td>5</td>\n",
       "      <td>97840.0</td>\n",
       "      <td>1</td>\n",
       "      <td>1</td>\n",
       "      <td>1.0</td>\n",
       "    </tr>\n",
       "    <tr>\n",
       "      <th>90</th>\n",
       "      <td>2016</td>\n",
       "      <td>3</td>\n",
       "      <td>12000.0</td>\n",
       "      <td>1</td>\n",
       "      <td>1</td>\n",
       "      <td>1.0</td>\n",
       "    </tr>\n",
       "    <tr>\n",
       "      <th>91</th>\n",
       "      <td>2012</td>\n",
       "      <td>0</td>\n",
       "      <td>62000.0</td>\n",
       "      <td>1</td>\n",
       "      <td>1</td>\n",
       "      <td>1.0</td>\n",
       "    </tr>\n",
       "    <tr>\n",
       "      <th>92</th>\n",
       "      <td>2016</td>\n",
       "      <td>3</td>\n",
       "      <td>68180.0</td>\n",
       "      <td>1</td>\n",
       "      <td>1</td>\n",
       "      <td>1.0</td>\n",
       "    </tr>\n",
       "    <tr>\n",
       "      <th>96</th>\n",
       "      <td>2007</td>\n",
       "      <td>5</td>\n",
       "      <td>206585.0</td>\n",
       "      <td>1</td>\n",
       "      <td>1</td>\n",
       "      <td>1.0</td>\n",
       "    </tr>\n",
       "  </tbody>\n",
       "</table>\n",
       "</div>"
      ],
      "text/plain": [
       "    year  condition    milage  title status  transmission  drive\n",
       "87  2005  2          232000.0  1             1             1.0  \n",
       "88  2009  5          91000.0   1             1             1.0  \n",
       "89  2012  5          97840.0   1             1             1.0  \n",
       "90  2016  3          12000.0   1             1             1.0  \n",
       "91  2012  0          62000.0   1             1             1.0  \n",
       "92  2016  3          68180.0   1             1             1.0  \n",
       "96  2007  5          206585.0  1             1             1.0  "
      ]
     },
     "execution_count": 648,
     "metadata": {},
     "output_type": "execute_result"
    }
   ],
   "source": [
    "X_madison"
   ]
  },
  {
   "cell_type": "markdown",
   "metadata": {},
   "source": []
  },
  {
   "cell_type": "code",
   "execution_count": 649,
   "metadata": {},
   "outputs": [
    {
     "data": {
      "text/plain": [
       "LinearRegression(copy_X=True, fit_intercept=True, n_jobs=1, normalize=False)"
      ]
     },
     "execution_count": 649,
     "metadata": {},
     "output_type": "execute_result"
    }
   ],
   "source": [
    "lm.fit(X_madison, Y_madison)"
   ]
  },
  {
   "cell_type": "code",
   "execution_count": 650,
   "metadata": {},
   "outputs": [
    {
     "data": {
      "text/plain": [
       "Index([u'year', u'condition', u'milage', u'title status', u'transmission',\n",
       "       u'drive'],\n",
       "      dtype='object')"
      ]
     },
     "execution_count": 650,
     "metadata": {},
     "output_type": "execute_result"
    }
   ],
   "source": [
    "X_madison.columns"
   ]
  },
  {
   "cell_type": "code",
   "execution_count": 651,
   "metadata": {},
   "outputs": [
    {
     "data": {
      "text/plain": [
       "array([21104.72599549])"
      ]
     },
     "execution_count": 651,
     "metadata": {},
     "output_type": "execute_result"
    }
   ],
   "source": [
    "lm.predict([[2012, 3, 150000, 1, 1, 1]])"
   ]
  },
  {
   "cell_type": "code",
   "execution_count": 634,
   "metadata": {},
   "outputs": [],
   "source": [
    "#scaler = StandardScaler()\n",
    "#a = scaler.fit(X_madison)"
   ]
  },
  {
   "cell_type": "code",
   "execution_count": 635,
   "metadata": {},
   "outputs": [],
   "source": [
    "#X_scaled = preprocessing.scale(X_madison)\n",
    "#Y_scaled = preprocessing.scale(Y_madison)"
   ]
  },
  {
   "cell_type": "code",
   "execution_count": 640,
   "metadata": {},
   "outputs": [
    {
     "data": {
      "text/plain": [
       "LinearRegression(copy_X=True, fit_intercept=True, n_jobs=1, normalize=False)"
      ]
     },
     "execution_count": 640,
     "metadata": {},
     "output_type": "execute_result"
    }
   ],
   "source": [
    "#lm.fit(X_madison, Y_madison)"
   ]
  },
  {
   "cell_type": "code",
   "execution_count": 647,
   "metadata": {},
   "outputs": [
    {
     "data": {
      "text/plain": [
       "array([29246.77442769])"
      ]
     },
     "execution_count": 647,
     "metadata": {},
     "output_type": "execute_result"
    }
   ],
   "source": [
    "#lm.predict([[2015, 5, 100000, 1, 1, 4]])"
   ]
  },
  {
   "cell_type": "code",
   "execution_count": null,
   "metadata": {},
   "outputs": [],
   "source": []
  }
 ],
 "metadata": {
  "kernelspec": {
   "display_name": "Python 2",
   "language": "python",
   "name": "python2"
  },
  "language_info": {
   "codemirror_mode": {
    "name": "ipython",
    "version": 2
   },
   "file_extension": ".py",
   "mimetype": "text/x-python",
   "name": "python",
   "nbconvert_exporter": "python",
   "pygments_lexer": "ipython2",
   "version": "2.7.14"
  }
 },
 "nbformat": 4,
 "nbformat_minor": 2
}
